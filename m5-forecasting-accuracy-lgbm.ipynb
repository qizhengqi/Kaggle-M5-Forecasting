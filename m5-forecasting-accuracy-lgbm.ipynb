{
 "cells": [
  {
   "cell_type": "code",
   "execution_count": 1,
   "metadata": {
    "_cell_guid": "b1076dfc-b9ad-4769-8c92-a6c4dae69d19",
    "_uuid": "8f2839f25d086af736a60e9eeb907d3b93b6e0e5",
    "execution": {
     "iopub.execute_input": "2020-09-05T08:01:44.131818Z",
     "iopub.status.busy": "2020-09-05T08:01:44.130957Z",
     "iopub.status.idle": "2020-09-05T08:01:46.247055Z",
     "shell.execute_reply": "2020-09-05T08:01:46.247995Z"
    },
    "papermill": {
     "duration": 2.144352,
     "end_time": "2020-09-05T08:01:46.248281",
     "exception": false,
     "start_time": "2020-09-05T08:01:44.103929",
     "status": "completed"
    },
    "tags": []
   },
   "outputs": [
    {
     "name": "stdout",
     "output_type": "stream",
     "text": [
      "/kaggle/input/m5-forecasting-accuracy/sales_train_validation.csv\n",
      "/kaggle/input/m5-forecasting-accuracy/sample_submission.csv\n",
      "/kaggle/input/m5-forecasting-accuracy/calendar.csv\n",
      "/kaggle/input/m5-forecasting-accuracy/sell_prices.csv\n",
      "/kaggle/input/m5-forecasting-accuracy/sales_train_evaluation.csv\n"
     ]
    }
   ],
   "source": [
    "# This Python 3 environment comes with many helpful analytics libraries installed\n",
    "# It is defined by the kaggle/python Docker image: https://github.com/kaggle/docker-python\n",
    "# For example, here's several helpful packages to load\n",
    "\n",
    "import numpy as np # linear algebra\n",
    "import pandas as pd # data processing, CSV file I/O (e.g. pd.read_csv)\n",
    "import warnings\n",
    "warnings.filterwarnings('ignore')\n",
    "import dask.dataframe as dd\n",
    "pd.set_option('display.max_columns', 500)\n",
    "pd.set_option('display.max_rows', 500)\n",
    "import matplotlib.pyplot as plt\n",
    "import seaborn as sns\n",
    "import lightgbm as lgb\n",
    "import dask_xgboost as xgb\n",
    "import dask.dataframe as dd\n",
    "from sklearn import preprocessing, metrics\n",
    "import gc\n",
    "\n",
    "# Input data files are available in the read-only \"../input/\" directory\n",
    "# For example, running this (by clicking run or pressing Shift+Enter) will list all files under the input directory\n",
    "\n",
    "import os\n",
    "for dirname, _, filenames in os.walk('/kaggle/input'):\n",
    "    for filename in filenames:\n",
    "        print(os.path.join(dirname, filename))\n",
    "\n",
    "# You can write up to 5GB to the current directory (/kaggle/working/) that gets preserved as output when you create a version using \"Save & Run All\" \n",
    "# You can also write temporary files to /kaggle/temp/, but they won't be saved outside of the current session"
   ]
  },
  {
   "cell_type": "code",
   "execution_count": 2,
   "metadata": {
    "_cell_guid": "79c7e3d0-c299-4dcb-8224-4455121ee9b0",
    "_uuid": "d629ff2d2480ee46fbb7e2d37f6b5fab8052498a",
    "execution": {
     "iopub.execute_input": "2020-09-05T08:01:46.310143Z",
     "iopub.status.busy": "2020-09-05T08:01:46.309219Z",
     "iopub.status.idle": "2020-09-05T08:01:46.312068Z",
     "shell.execute_reply": "2020-09-05T08:01:46.311348Z"
    },
    "papermill": {
     "duration": 0.047482,
     "end_time": "2020-09-05T08:01:46.312218",
     "exception": false,
     "start_time": "2020-09-05T08:01:46.264736",
     "status": "completed"
    },
    "tags": []
   },
   "outputs": [],
   "source": [
    "def reduce_mem_usage(df, verbose=True):\n",
    "    numerics = ['int16', 'int32', 'int64', 'float16', 'float32', 'float64']\n",
    "    start_mem = df.memory_usage().sum() / 1024**2    \n",
    "    for col in df.columns:\n",
    "        col_type = df[col].dtypes\n",
    "        if col_type in numerics:\n",
    "            c_min = df[col].min()\n",
    "            c_max = df[col].max()\n",
    "            if str(col_type)[:3] == 'int':\n",
    "                if c_min > np.iinfo(np.int8).min and c_max < np.iinfo(np.int8).max:\n",
    "                    df[col] = df[col].astype(np.int8)\n",
    "                elif c_min > np.iinfo(np.int16).min and c_max < np.iinfo(np.int16).max:\n",
    "                    df[col] = df[col].astype(np.int16)\n",
    "                elif c_min > np.iinfo(np.int32).min and c_max < np.iinfo(np.int32).max:\n",
    "                    df[col] = df[col].astype(np.int32)\n",
    "                elif c_min > np.iinfo(np.int64).min and c_max < np.iinfo(np.int64).max:\n",
    "                    df[col] = df[col].astype(np.int64)  \n",
    "            else:\n",
    "                if c_min > np.finfo(np.float16).min and c_max < np.finfo(np.float16).max:\n",
    "                    df[col] = df[col].astype(np.float16)\n",
    "                elif c_min > np.finfo(np.float32).min and c_max < np.finfo(np.float32).max:\n",
    "                    df[col] = df[col].astype(np.float32)\n",
    "                else:\n",
    "                    df[col] = df[col].astype(np.float64)    \n",
    "    end_mem = df.memory_usage().sum() / 1024**2\n",
    "    if verbose: print('Mem. usage decreased to {:5.2f} Mb ({:.1f}% reduction)'.format(end_mem, 100 * (start_mem - end_mem) / start_mem))\n",
    "    return df"
   ]
  },
  {
   "cell_type": "code",
   "execution_count": 3,
   "metadata": {
    "execution": {
     "iopub.execute_input": "2020-09-05T08:01:46.353784Z",
     "iopub.status.busy": "2020-09-05T08:01:46.352677Z",
     "iopub.status.idle": "2020-09-05T08:01:46.356642Z",
     "shell.execute_reply": "2020-09-05T08:01:46.355967Z"
    },
    "papermill": {
     "duration": 0.029399,
     "end_time": "2020-09-05T08:01:46.356808",
     "exception": false,
     "start_time": "2020-09-05T08:01:46.327409",
     "status": "completed"
    },
    "tags": []
   },
   "outputs": [],
   "source": [
    "# function to read the data and merge it (ignoring some columns, this is a very fst model)\n",
    "\n",
    "def read_data():\n",
    "    print('Reading files...')\n",
    "    calendar = pd.read_csv('/kaggle/input/m5-forecasting-accuracy/calendar.csv')\n",
    "    calendar = reduce_mem_usage(calendar)\n",
    "    print('Calendar has {} rows and {} columns'.format(calendar.shape[0], calendar.shape[1]))\n",
    "    sell_prices = pd.read_csv('/kaggle/input/m5-forecasting-accuracy/sell_prices.csv')\n",
    "    sell_prices = reduce_mem_usage(sell_prices)\n",
    "    print('Sell prices has {} rows and {} columns'.format(sell_prices.shape[0], sell_prices.shape[1]))\n",
    "    sales_train_evaluation = pd.read_csv('/kaggle/input/m5-forecasting-accuracy/sales_train_evaluation.csv')\n",
    "    print('Sales train evaluation has {} rows and {} columns'.format(sales_train_evaluation.shape[0], sales_train_evaluation.shape[1]))\n",
    "    submission = pd.read_csv('/kaggle/input/m5-forecasting-accuracy/sample_submission.csv')\n",
    "    return calendar, sell_prices, sales_train_evaluation, submission"
   ]
  },
  {
   "cell_type": "code",
   "execution_count": 4,
   "metadata": {
    "execution": {
     "iopub.execute_input": "2020-09-05T08:01:46.394022Z",
     "iopub.status.busy": "2020-09-05T08:01:46.393236Z",
     "iopub.status.idle": "2020-09-05T08:01:58.329518Z",
     "shell.execute_reply": "2020-09-05T08:01:58.328590Z"
    },
    "papermill": {
     "duration": 11.957423,
     "end_time": "2020-09-05T08:01:58.329696",
     "exception": false,
     "start_time": "2020-09-05T08:01:46.372273",
     "status": "completed"
    },
    "tags": []
   },
   "outputs": [
    {
     "name": "stdout",
     "output_type": "stream",
     "text": [
      "Reading files...\n",
      "Mem. usage decreased to  0.12 Mb (41.9% reduction)\n",
      "Calendar has 1969 rows and 14 columns\n",
      "Mem. usage decreased to 130.48 Mb (37.5% reduction)\n",
      "Sell prices has 6841121 rows and 4 columns\n",
      "Sales train evaluation has 30490 rows and 1947 columns\n"
     ]
    }
   ],
   "source": [
    "calendar, sell_prices, sales_train_evaluation, submission = read_data()"
   ]
  },
  {
   "cell_type": "code",
   "execution_count": 5,
   "metadata": {
    "execution": {
     "iopub.execute_input": "2020-09-05T08:01:58.396787Z",
     "iopub.status.busy": "2020-09-05T08:01:58.392555Z",
     "iopub.status.idle": "2020-09-05T08:01:58.400518Z",
     "shell.execute_reply": "2020-09-05T08:01:58.399704Z"
    },
    "papermill": {
     "duration": 0.051975,
     "end_time": "2020-09-05T08:01:58.400657",
     "exception": false,
     "start_time": "2020-09-05T08:01:58.348682",
     "status": "completed"
    },
    "tags": []
   },
   "outputs": [],
   "source": [
    "def melt_and_merge(calendar, sell_prices, sales_train_evaluation, submission, nrows = 55000000, merge = False):\n",
    "    \n",
    "    # melt sales data, get it ready for training\n",
    "    sales_train_evaluation = pd.melt(sales_train_evaluation, id_vars = ['id', 'item_id', 'dept_id', 'cat_id', 'store_id', 'state_id'], var_name = 'day', value_name = 'demand')\n",
    "    print('Melted sales train evaluation has {} rows and {} columns'.format(sales_train_evaluation.shape[0], sales_train_evaluation.shape[1]))\n",
    "    sales_train_evaluation = reduce_mem_usage(sales_train_evaluation)\n",
    "    \n",
    "    # seperate test dataframes\n",
    "    test_rows = [row for row in submission['id'] if 'evaluation' in row]\n",
    "    test = submission[submission['id'].isin(test_rows)]\n",
    "    \n",
    "    # change column names\n",
    "    test.columns = ['id', 'd_1942', 'd_1943', 'd_1944', 'd_1945', 'd_1946', 'd_1947', 'd_1948', 'd_1949', 'd_1950', 'd_1951', 'd_1952', 'd_1953', 'd_1954', 'd_1955', 'd_1956', 'd_1957', 'd_1958', 'd_1959', \n",
    "                      'd_1960', 'd_1961', 'd_1962', 'd_1963', 'd_1964', 'd_1965', 'd_1966', 'd_1967', 'd_1968', 'd_1969']\n",
    "    \n",
    "    # get product table\n",
    "    product = sales_train_evaluation[['id', 'item_id', 'dept_id', 'cat_id', 'store_id', 'state_id']].drop_duplicates()\n",
    "    \n",
    "    # merge with product table\n",
    "    test = test.merge(product, how = 'left', on = 'id')\n",
    "    \n",
    "    # \n",
    "    test = pd.melt(test, id_vars = ['id', 'item_id', 'dept_id', 'cat_id', 'store_id', 'state_id'], var_name = 'day', value_name = 'demand')\n",
    "    \n",
    "    sales_train_evaluation['part'] = 'train'\n",
    "    test['part'] = 'test'\n",
    "    \n",
    "    data = pd.concat([sales_train_evaluation, test], axis = 0)\n",
    "    \n",
    "    del sales_train_evaluation, test\n",
    "    \n",
    "    # get only a sample for fst training\n",
    "    data = data.loc[nrows:]\n",
    "    \n",
    "    # drop some calendar features\n",
    "    calendar.drop(['weekday', 'wday', 'month', 'year'], inplace = True, axis = 1)\n",
    "    \n",
    "    if merge:\n",
    "        # notebook crash with the entire dataset (maybee use tensorflow, dask, pyspark xD)\n",
    "        data = pd.merge(data, calendar, how = 'left', left_on = ['day'], right_on = ['d'])\n",
    "        data.drop(['d', 'day'], inplace = True, axis = 1)\n",
    "        # get the sell price data (this feature should be very important)\n",
    "        data = data.merge(sell_prices, on = ['store_id', 'item_id', 'wm_yr_wk'], how = 'left')\n",
    "        print('Our final dataset to train has {} rows and {} columns'.format(data.shape[0], data.shape[1]))\n",
    "    else: \n",
    "        pass\n",
    "    \n",
    "    gc.collect()\n",
    "    \n",
    "    return data"
   ]
  },
  {
   "cell_type": "code",
   "execution_count": 6,
   "metadata": {
    "execution": {
     "iopub.execute_input": "2020-09-05T08:01:58.447205Z",
     "iopub.status.busy": "2020-09-05T08:01:58.446308Z",
     "iopub.status.idle": "2020-09-05T08:05:27.257483Z",
     "shell.execute_reply": "2020-09-05T08:05:27.258346Z"
    },
    "papermill": {
     "duration": 208.840602,
     "end_time": "2020-09-05T08:05:27.258590",
     "exception": false,
     "start_time": "2020-09-05T08:01:58.417988",
     "status": "completed"
    },
    "tags": []
   },
   "outputs": [
    {
     "name": "stdout",
     "output_type": "stream",
     "text": [
      "Melted sales train evaluation has 59181090 rows and 8 columns\n",
      "Mem. usage decreased to 3273.49 Mb (9.4% reduction)\n",
      "Our final dataset to train has 32534810 rows and 18 columns\n"
     ]
    }
   ],
   "source": [
    "data = melt_and_merge(calendar, sell_prices, sales_train_evaluation, submission, nrows = 27500000, merge = True)"
   ]
  },
  {
   "cell_type": "code",
   "execution_count": 7,
   "metadata": {
    "execution": {
     "iopub.execute_input": "2020-09-05T08:05:27.306058Z",
     "iopub.status.busy": "2020-09-05T08:05:27.305142Z",
     "iopub.status.idle": "2020-09-05T08:05:27.308844Z",
     "shell.execute_reply": "2020-09-05T08:05:27.308246Z"
    },
    "papermill": {
     "duration": 0.030974,
     "end_time": "2020-09-05T08:05:27.308970",
     "exception": false,
     "start_time": "2020-09-05T08:05:27.277996",
     "status": "completed"
    },
    "tags": []
   },
   "outputs": [],
   "source": [
    "def transform(data):\n",
    "    \n",
    "    nan_features = ['event_name_1', 'event_type_1', 'event_name_2', 'event_type_2']\n",
    "    for feature in nan_features:\n",
    "        data[feature].fillna('unknown', inplace = True)\n",
    "        \n",
    "    cat = ['item_id', 'dept_id', 'cat_id', 'store_id', 'state_id', 'event_name_1', 'event_type_1', 'event_name_2', 'event_type_2']\n",
    "    for feature in cat:\n",
    "        encoder = preprocessing.LabelEncoder()\n",
    "        data[feature] = encoder.fit_transform(data[feature])\n",
    "    \n",
    "    return data"
   ]
  },
  {
   "cell_type": "code",
   "execution_count": 8,
   "metadata": {
    "execution": {
     "iopub.execute_input": "2020-09-05T08:05:29.203981Z",
     "iopub.status.busy": "2020-09-05T08:05:29.201938Z",
     "iopub.status.idle": "2020-09-05T08:07:39.488093Z",
     "shell.execute_reply": "2020-09-05T08:07:39.487454Z"
    },
    "papermill": {
     "duration": 132.160814,
     "end_time": "2020-09-05T08:07:39.488263",
     "exception": false,
     "start_time": "2020-09-05T08:05:27.327449",
     "status": "completed"
    },
    "tags": []
   },
   "outputs": [],
   "source": [
    "data = transform(data)"
   ]
  },
  {
   "cell_type": "code",
   "execution_count": 9,
   "metadata": {
    "execution": {
     "iopub.execute_input": "2020-09-05T08:07:41.037849Z",
     "iopub.status.busy": "2020-09-05T08:07:40.109643Z",
     "iopub.status.idle": "2020-09-05T08:08:02.428754Z",
     "shell.execute_reply": "2020-09-05T08:08:02.427928Z"
    },
    "papermill": {
     "duration": 22.921586,
     "end_time": "2020-09-05T08:08:02.428882",
     "exception": false,
     "start_time": "2020-09-05T08:07:39.507296",
     "status": "completed"
    },
    "tags": []
   },
   "outputs": [],
   "source": [
    "# time features\n",
    "data['date'] = pd.to_datetime(data['date'])\n",
    "data['year'] = data['date'].dt.year\n",
    "data['month'] = data['date'].dt.month\n",
    "data['week'] = data['date'].dt.week\n",
    "data['day'] = data['date'].dt.day\n",
    "data['dayofweek'] = data['date'].dt.dayofweek"
   ]
  },
  {
   "cell_type": "code",
   "execution_count": 10,
   "metadata": {
    "execution": {
     "iopub.execute_input": "2020-09-05T08:08:02.486733Z",
     "iopub.status.busy": "2020-09-05T08:08:02.485821Z",
     "iopub.status.idle": "2020-09-05T08:17:19.757379Z",
     "shell.execute_reply": "2020-09-05T08:17:19.755854Z"
    },
    "papermill": {
     "duration": 557.309916,
     "end_time": "2020-09-05T08:17:19.757766",
     "exception": false,
     "start_time": "2020-09-05T08:08:02.447850",
     "status": "completed"
    },
    "tags": []
   },
   "outputs": [],
   "source": [
    "# rolling demand features\n",
    "data['lag_t28'] = data.groupby(['id'])['demand'].transform(lambda x: x.shift(28))\n",
    "data['lag_t29'] = data.groupby(['id'])['demand'].transform(lambda x: x.shift(29))\n",
    "data['lag_t30'] = data.groupby(['id'])['demand'].transform(lambda x: x.shift(30))\n",
    "data['rolling_mean_t7'] = data.groupby(['id'])['demand'].transform(lambda x: x.shift(28).rolling(7).mean())\n",
    "data['rolling_std_t7'] = data.groupby(['id'])['demand'].transform(lambda x: x.shift(28).rolling(7).std())\n",
    "data['rolling_mean_t30'] = data.groupby(['id'])['demand'].transform(lambda x: x.shift(28).rolling(30).mean())\n",
    "data['rolling_mean_t90'] = data.groupby(['id'])['demand'].transform(lambda x: x.shift(28).rolling(90).mean())\n",
    "data['rolling_mean_t180'] = data.groupby(['id'])['demand'].transform(lambda x: x.shift(28).rolling(180).mean())\n",
    "data['rolling_std_t30'] = data.groupby(['id'])['demand'].transform(lambda x: x.shift(28).rolling(30).std())\n",
    "data['rolling_skew_t30'] = data.groupby(['id'])['demand'].transform(lambda x: x.shift(28).rolling(30).skew())\n",
    "data['rolling_kurt_t30'] = data.groupby(['id'])['demand'].transform(lambda x: x.shift(28).rolling(30).kurt())"
   ]
  },
  {
   "cell_type": "code",
   "execution_count": 11,
   "metadata": {
    "execution": {
     "iopub.execute_input": "2020-09-05T08:17:19.809102Z",
     "iopub.status.busy": "2020-09-05T08:17:19.808259Z",
     "iopub.status.idle": "2020-09-05T08:17:43.396885Z",
     "shell.execute_reply": "2020-09-05T08:17:43.395986Z"
    },
    "papermill": {
     "duration": 23.616773,
     "end_time": "2020-09-05T08:17:43.397052",
     "exception": false,
     "start_time": "2020-09-05T08:17:19.780279",
     "status": "completed"
    },
    "tags": []
   },
   "outputs": [
    {
     "name": "stdout",
     "output_type": "stream",
     "text": [
      "Mem. usage decreased to 2451.18 Mb (68.0% reduction)\n"
     ]
    }
   ],
   "source": [
    "data = reduce_mem_usage(data)"
   ]
  },
  {
   "cell_type": "code",
   "execution_count": 12,
   "metadata": {
    "execution": {
     "iopub.execute_input": "2020-09-05T08:17:43.470137Z",
     "iopub.status.busy": "2020-09-05T08:17:43.468978Z",
     "iopub.status.idle": "2020-09-05T08:21:42.747289Z",
     "shell.execute_reply": "2020-09-05T08:21:42.746194Z"
    },
    "papermill": {
     "duration": 239.323372,
     "end_time": "2020-09-05T08:21:42.747571",
     "exception": false,
     "start_time": "2020-09-05T08:17:43.424199",
     "status": "completed"
    },
    "tags": []
   },
   "outputs": [],
   "source": [
    "# price features\n",
    "data['lag_price_t1'] = data.groupby(['id'])['sell_price'].transform(lambda x: x.shift(1))\n",
    "data['lag_price_t2'] = data.groupby(['id'])['sell_price'].transform(lambda x: x.shift(2))\n",
    "data['price_change_t1'] = (data['lag_price_t1'] - data['sell_price']) / (data['lag_price_t1'])\n",
    "data['price_change_t2'] = (data['lag_price_t2'] - data['lag_price_t1']) / (data['lag_price_t2'])\n",
    "data.drop(['lag_price_t1', 'lag_price_t2'], inplace = True, axis = 1)\n",
    "data['rolling_price_std_t7'] = data.groupby(['id'])['sell_price'].transform(lambda x: x.rolling(7).std())\n",
    "data['rolling_price_std_t30'] = data.groupby(['id'])['sell_price'].transform(lambda x: x.rolling(30).std())\n",
    "data['rolling_price_max_t365'] = data.groupby(['id'])['sell_price'].transform(lambda x: x.shift(1).rolling(365).max())\n",
    "data['price_change_t365'] = (data['rolling_price_max_t365'] - data['sell_price']) / (data['rolling_price_max_t365'])\n",
    "data.drop(['rolling_price_max_t365'], inplace = True, axis = 1)"
   ]
  },
  {
   "cell_type": "code",
   "execution_count": 13,
   "metadata": {
    "execution": {
     "iopub.execute_input": "2020-09-05T08:21:42.799114Z",
     "iopub.status.busy": "2020-09-05T08:21:42.798314Z",
     "iopub.status.idle": "2020-09-05T08:21:55.659669Z",
     "shell.execute_reply": "2020-09-05T08:21:55.666127Z"
    },
    "papermill": {
     "duration": 12.89723,
     "end_time": "2020-09-05T08:21:55.666518",
     "exception": false,
     "start_time": "2020-09-05T08:21:42.769288",
     "status": "completed"
    },
    "tags": []
   },
   "outputs": [
    {
     "name": "stdout",
     "output_type": "stream",
     "text": [
      "Mem. usage decreased to 2761.46 Mb (0.0% reduction)\n"
     ]
    }
   ],
   "source": [
    "data = reduce_mem_usage(data)"
   ]
  },
  {
   "cell_type": "code",
   "execution_count": 14,
   "metadata": {
    "execution": {
     "iopub.execute_input": "2020-09-05T08:21:55.761198Z",
     "iopub.status.busy": "2020-09-05T08:21:55.760003Z",
     "iopub.status.idle": "2020-09-05T08:21:55.764913Z",
     "shell.execute_reply": "2020-09-05T08:21:55.763423Z"
    },
    "papermill": {
     "duration": 0.047019,
     "end_time": "2020-09-05T08:21:55.765060",
     "exception": false,
     "start_time": "2020-09-05T08:21:55.718041",
     "status": "completed"
    },
    "tags": []
   },
   "outputs": [],
   "source": [
    "# define list of features\n",
    "features = ['item_id', 'dept_id', 'cat_id', 'store_id', 'state_id', 'year', 'month', 'week', 'day', 'dayofweek', 'event_name_1', 'event_type_1', 'event_name_2', 'event_type_2', \n",
    "            'snap_CA', 'snap_TX', 'snap_WI', 'sell_price', 'lag_t28', 'lag_t29', 'lag_t30', 'rolling_mean_t7', 'rolling_std_t7', 'rolling_mean_t30','rolling_mean_t90',\n",
    "            'rolling_mean_t180', 'rolling_std_t30', 'price_change_t1', 'price_change_t2', 'price_change_t365', 'rolling_price_std_t7', 'rolling_price_std_t30', 'rolling_skew_t30', 'rolling_kurt_t30']"
   ]
  },
  {
   "cell_type": "code",
   "execution_count": 15,
   "metadata": {
    "execution": {
     "iopub.execute_input": "2020-09-05T08:21:55.873520Z",
     "iopub.status.busy": "2020-09-05T08:21:55.853973Z",
     "iopub.status.idle": "2020-09-05T08:21:55.877239Z",
     "shell.execute_reply": "2020-09-05T08:21:55.876127Z"
    },
    "papermill": {
     "duration": 0.072708,
     "end_time": "2020-09-05T08:21:55.877411",
     "exception": false,
     "start_time": "2020-09-05T08:21:55.804703",
     "status": "completed"
    },
    "tags": []
   },
   "outputs": [],
   "source": [
    "def run_lgb(data):\n",
    "\n",
    "    # going to evaluate with the last 28 days\n",
    "    x_train = data[data['date'] <= '2016-04-24']\n",
    "    y_train = x_train['demand']\n",
    "    x_val = data[(data['date'] > '2016-04-24') & (data['date'] <= '2016-05-22')]\n",
    "    y_val = x_val['demand']\n",
    "    test = data[(data['date'] > '2016-05-22')]\n",
    "    del data\n",
    "    gc.collect()\n",
    "\n",
    "    # define random hyperparammeters\n",
    "    params = {\n",
    "        'boosting_type': 'gbdt',\n",
    "        'metric': 'rmse',\n",
    "        'objective': 'regression',\n",
    "        'n_jobs': -1,\n",
    "        'learning_rate': 0.1,\n",
    "        'bagging_fraction': 1,\n",
    "        'bagging_freq': 10, \n",
    "        'colsample_bytree': 0.75}\n",
    "\n",
    "    train_set = lgb.Dataset(x_train[features], y_train)\n",
    "    val_set = lgb.Dataset(x_val[features], y_val)\n",
    "    \n",
    "    del x_train, y_train\n",
    "    \n",
    "    model = lgb.train(params, train_set, num_boost_round = 2500, early_stopping_rounds = 50, valid_sets = [train_set, val_set], verbose_eval = 100)\n",
    "    val_pred = model.predict(x_val[features])\n",
    "    val_score = np.sqrt(metrics.mean_squared_error(val_pred, y_val))\n",
    "    print(f'Our val rmse score is {val_score}')\n",
    "    y_pred = model.predict(test[features])\n",
    "    y_val = model.predict(x_val[features])\n",
    "    x_val['demand'] = y_val\n",
    "    test['demand'] = y_pred\n",
    "    return test,x_val"
   ]
  },
  {
   "cell_type": "code",
   "execution_count": 16,
   "metadata": {
    "execution": {
     "iopub.execute_input": "2020-09-05T08:21:55.963874Z",
     "iopub.status.busy": "2020-09-05T08:21:55.956816Z",
     "iopub.status.idle": "2020-09-05T08:38:17.534547Z",
     "shell.execute_reply": "2020-09-05T08:38:17.533684Z"
    },
    "papermill": {
     "duration": 981.631893,
     "end_time": "2020-09-05T08:38:17.534813",
     "exception": false,
     "start_time": "2020-09-05T08:21:55.902920",
     "status": "completed"
    },
    "tags": []
   },
   "outputs": [
    {
     "name": "stdout",
     "output_type": "stream",
     "text": [
      "Training until validation scores don't improve for 50 rounds\n",
      "[100]\ttraining's rmse: 2.38152\tvalid_1's rmse: 2.18109\n",
      "[200]\ttraining's rmse: 2.32134\tvalid_1's rmse: 2.17445\n",
      "[300]\ttraining's rmse: 2.28728\tvalid_1's rmse: 2.16986\n",
      "[400]\ttraining's rmse: 2.25996\tvalid_1's rmse: 2.16615\n",
      "[500]\ttraining's rmse: 2.2368\tvalid_1's rmse: 2.16431\n",
      "[600]\ttraining's rmse: 2.21796\tvalid_1's rmse: 2.16111\n",
      "Early stopping, best iteration is:\n",
      "[606]\ttraining's rmse: 2.21688\tvalid_1's rmse: 2.16088\n",
      "Our val rmse score is 2.160875819571798\n"
     ]
    }
   ],
   "source": [
    "test, x_val = run_lgb(data)"
   ]
  },
  {
   "cell_type": "code",
   "execution_count": 17,
   "metadata": {
    "execution": {
     "iopub.execute_input": "2020-09-05T08:38:17.607138Z",
     "iopub.status.busy": "2020-09-05T08:38:17.605958Z",
     "iopub.status.idle": "2020-09-05T08:38:23.553490Z",
     "shell.execute_reply": "2020-09-05T08:38:23.552762Z"
    },
    "papermill": {
     "duration": 5.989333,
     "end_time": "2020-09-05T08:38:23.553625",
     "exception": false,
     "start_time": "2020-09-05T08:38:17.564292",
     "status": "completed"
    },
    "tags": []
   },
   "outputs": [
    {
     "name": "stdout",
     "output_type": "stream",
     "text": [
      "Final submission has 60980 columns\n"
     ]
    }
   ],
   "source": [
    "evaluation = test[['id', 'date', 'demand']]\n",
    "validation = x_val[['id', 'date', 'demand']]\n",
    "evaluation = pd.pivot(evaluation, index = 'id', columns = 'date', values = 'demand').reset_index()\n",
    "validation = pd.pivot(validation, index = 'id', columns = 'date', values = 'demand').reset_index()\n",
    "evaluation.columns = ['id'] + ['F' + str(i + 1) for i in range(28)]\n",
    "validation.columns = ['id'] + ['F' + str(i + 1) for i in range(28)]\n",
    "validation['id'] = validation['id'].str.replace('_evaluation','_validation')\n",
    "predictions = pd.concat([validation,evaluation])\n",
    "\n",
    "final = submission[['id']].merge(predictions, on = 'id')\n",
    "final.to_csv('submission.csv', index = False)\n",
    "print('Final submission has {} columns'.format(final.shape[0]))"
   ]
  }
 ],
 "metadata": {
  "kernelspec": {
   "display_name": "Python 3",
   "language": "python",
   "name": "python3"
  },
  "language_info": {
   "codemirror_mode": {
    "name": "ipython",
    "version": 3
   },
   "file_extension": ".py",
   "mimetype": "text/x-python",
   "name": "python",
   "nbconvert_exporter": "python",
   "pygments_lexer": "ipython3",
   "version": "3.7.6"
  },
  "papermill": {
   "duration": 2215.243746,
   "end_time": "2020-09-05T08:38:23.816732",
   "environment_variables": {},
   "exception": null,
   "input_path": "__notebook__.ipynb",
   "output_path": "__notebook__.ipynb",
   "parameters": {},
   "start_time": "2020-09-05T08:01:28.572986",
   "version": "2.1.0"
  }
 },
 "nbformat": 4,
 "nbformat_minor": 4
}
